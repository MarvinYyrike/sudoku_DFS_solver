{
 "cells": [
  {
   "cell_type": "code",
   "execution_count": null,
   "metadata": {},
   "outputs": [],
   "source": [
    "#imports"
   ]
  },
  {
   "cell_type": "code",
   "execution_count": null,
   "metadata": {},
   "outputs": [],
   "source": [
    "# Datatype of sudoku\n",
    "sudoku_grid = [\n",
    "    [5, 3, 0, 0, 7, 0, 0, 0, 0],\n",
    "    [6, 0, 0, 1, 9, 5, 0, 0, 0],\n",
    "    [0, 9, 8, 0, 0, 0, 0, 6, 0],\n",
    "    [8, 0, 0, 0, 6, 0, 0, 0, 3],\n",
    "    [4, 0, 0, 8, 0, 3, 0, 0, 1],\n",
    "    [7, 0, 0, 0, 2, 0, 0, 0, 6],\n",
    "    [0, 6, 0, 0, 0, 0, 2, 8, 0],\n",
    "    [0, 0, 0, 4, 1, 9, 0, 0, 5],\n",
    "    [0, 0, 0, 0, 8, 0, 0, 7, 9]\n",
    "]"
   ]
  },
  {
   "cell_type": "code",
   "execution_count": null,
   "metadata": {},
   "outputs": [],
   "source": [
    "#Helper functionss\n",
    "\n",
    "def is_valid(sudoku, row, col, num):\n",
    "    # Check row\n",
    "    for x in range(9):\n",
    "        if sudoku[row][x] == num:\n",
    "            return False\n",
    "    # Check column\n",
    "    for x in range(9):\n",
    "        if sudoku[x][col] == num:\n",
    "            return False\n",
    "    # Check 3x3 subgrid\n",
    "    start_row, start_col = 3 * (row // 3), 3 * (col // 3)\n",
    "    for i in range(3):\n",
    "        for j in range(3):\n",
    "            if sudoku[i + start_row][j + start_col] == num:\n",
    "                return False\n",
    "    return True\n",
    "\n",
    "def find_empty_location(sudoku):\n",
    "    for i in range(9):\n",
    "        for j in range(9):\n",
    "            if sudoku[i][j] == 0:\n",
    "                return (i, j)\n",
    "    return None\n",
    "\n",
    "def solve_sudoku(sudoku):\n",
    "    empty_location = find_empty_location(sudoku)\n",
    "    if not empty_location:\n",
    "        return True  # Solved\n",
    "    row, col = empty_location\n",
    "\n",
    "    for num in range(1, 10):\n",
    "        if is_valid(sudoku, row, col, num):\n",
    "            sudoku[row][col] = num\n",
    "            if solve_sudoku(sudoku):\n",
    "                return True\n",
    "            sudoku[row][col] = 0  # Backtrack\n",
    "    return False\n",
    "\n",
    "# Example usage:\n",
    "if solve_sudoku(sudoku_grid):\n",
    "    print(\"Sudoku solved successfully!\")\n",
    "    for row in sudoku_grid:\n",
    "        print(row)\n",
    "else:\n",
    "    print(\"No solution exists.\")\n"
   ]
  }
 ],
 "metadata": {
  "language_info": {
   "name": "python"
  }
 },
 "nbformat": 4,
 "nbformat_minor": 2
}
